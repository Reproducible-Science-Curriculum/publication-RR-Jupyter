{
 "cells": [
  {
   "cell_type": "markdown",
   "metadata": {},
   "source": [
    "# Creating Record Level Metadata\n",
    "\n",
    "Learning objectives:\n",
    "\n",
    "* Evaluate and rank the quality of existing metadata records.\n",
    "* Describe the types of and importance of record level metadata. \n",
    "* Compose an appropriate set of descriptive keywords for a given text.\n"
   ]
  },
  {
   "cell_type": "markdown",
   "metadata": {},
   "source": [
    "## Ranking records\n",
    "\n",
    "### Exercise 1 - rank these Zenodo entries in terms of information quality (7 minutes)\n",
    "\n",
    "Ranking worse to better zenodo records:\n",
    "\n",
    "* https://zenodo.org/record/220887#.WHVUprYrJE4 - Simulated breed for GENMON\n",
    "* https://zenodo.org/record/193080#.WHVWI7YrJE4 - Raw data for a manuscript. Gives manuscript title.\n",
    "* https://zenodo.org/record/215975#.WHVVCLYrIxF \n",
    "* https://zenodo.org/record/193025#.WHVVrrYrIxE \n",
    "* https://zenodo.org/record/158943#.WHVXZbYrIxG - data, jupyter notebook, video, and readme file for a paper (http://iopscience.iop.org/article/10.1088/0143-0807/38/1/015005/meta#footnotes)\n",
    "\n",
    "Look through these three (TODO, [issue 1](https://github.com/Reproducible-Science-Curriculum/publication-RR-Jupyter/issues/1)) and rank them from 1 (most helpful/informative) to 3 (least helpful/informative).  (5-7 minutes).\n",
    "\n",
    "Place your green sticky up when you are done."
   ]
  },
  {
   "cell_type": "markdown",
   "metadata": {
    "collapsed": true
   },
   "source": [
    "### Group discussion (5 minutes)\n",
    "\n",
    "Tally for who ranked each record for being the most informative:\n",
    "\n",
    "* [record number...]\n",
    "* [record number...]\n",
    "* [record number...]\n",
    "\n",
    "Tally for who ranked each record for being the least informative:\n",
    "\n",
    "* [record number...]\n",
    "* [record number...]\n",
    "* [record number...]\n",
    "\n",
    "Discussion questions:\n",
    "\n",
    "* What were the criteria that you used to rank? \n",
    "* What was missing? \n",
    "* What was the most helpful? \n",
    "* What was the most critical piece of information? \n"
   ]
  },
  {
   "cell_type": "markdown",
   "metadata": {
    "collapsed": true
   },
   "source": [
    "## The metadata in your life\n",
    "\n",
    "You're used to metadata within your research. You've got metadata about specific data points, observations, samples, etc.  But there are many more parts of metadata.  \n",
    "\n",
    "The information that you were looking at in the Zenodo records is metadata.  Metadata about the dataset (record) on that page.  Let's take a look at the pieces of these pages.\n",
    "\n",
    "Point out where these pieces are:\n",
    "\n",
    "* Title\n",
    "* Authors\n",
    "* Description\n",
    "* Keywords\n",
    "\n",
    "This information is important because:\n",
    "\n",
    "* people need to find your stuff\n",
    "* people need to know what your stuff is\n",
    "\n",
    "Let's think about the workflow of discovery, the user...\n",
    "\n",
    "1. Searches for something\n",
    "2. Reviews the results, based on the title and other information coming up in the search results pages\n",
    "3. Might add some filters to reduce and refine the results\n",
    "4. Selects a record to review and goes to that record's page\n",
    "5. Reviews the new information on this page, including the fuller description, keywords, and other readme/documentation files.\n",
    "6. Downloads and digs in to the data files\n",
    "\n",
    "This person would continue to move through these steps so long as the information continues to look sufficiently interesting."
   ]
  },
  {
   "cell_type": "code",
   "execution_count": 2,
   "metadata": {
    "collapsed": false,
    "scrolled": true
   },
   "outputs": [
    {
     "data": {
      "text/html": [
       "<iframe src=https://zenodo.org/record/158943#.WHVXZbYrIxG width=700 height=350></iframe>"
      ],
      "text/plain": [
       "<IPython.core.display.HTML object>"
      ]
     },
     "execution_count": 2,
     "metadata": {},
     "output_type": "execute_result"
    }
   ],
   "source": [
    "import IPython\n",
    "\n",
    "url = \"https://zenodo.org/record/158943#.WHVXZbYrIxG\"\n",
    "iframe = '<iframe src=' + url + ' width=700 height=350></iframe>'\n",
    "\n",
    "IPython.display.HTML(iframe)"
   ]
  },
  {
   "cell_type": "markdown",
   "metadata": {
    "collapsed": true
   },
   "source": [
    "## Keywords, best friend/worst enemy (7 minutes)\n",
    "\n",
    "There are many places where you might need to add in tags and keywords about items.  You do this for organizing your pictures, maybe your evernote notes or your Jira tickets.\n",
    "\n",
    "The keywords you add need to be items:\n",
    "* not too general that it doesn't disambiguate it from anything else or \n",
    "* so specific that it would never be searched for.\n",
    "\n",
    "The same keyword may count as too general, too specific, or just right depending on the platform you are using.\n",
    "\n",
    "For example, can you think of times when the following keywords would be useful or not useful?  Think about usage on GitHub issue tags, Evernote tags, article descriptive keywords, a relevant conference presentation, etc. (pick 2-3 that are relevant to this group and write them down).\n",
    "\n",
    "* python\n",
    "* data\n",
    "* code\n",
    "* (TODO: add in more example keywords that would be overly specific to specific domains)\n",
    "\n",
    "For example, tagging a task in your ticketing system as Python might be relevant if it is about a python lesson development when you normally work in other languages. It may not be that useful for a ticket about a python project."
   ]
  },
  {
   "cell_type": "markdown",
   "metadata": {
    "collapsed": true
   },
   "source": [
    "### Exercise 2:  Picking keywords for the gapminder data\n",
    "\n",
    "We're going to take a more critical look at the gapminder dataset that we've been using over the course of the workshop.  Imagine that you are finishing up a project on this dataset and preparing to deposit your data and Jupyter Notebook into something like Zenodo.  You've been asked to come up with a set of keywords to describe your deposit.\n",
    "\n",
    "#### Step 1: You pick out keywords (3 minutes)\n",
    "\n",
    "* Individually pick max five keywords for the gapminder dataset.\n",
    "\n",
    "You are free to pick any five (or fewer) keywords that you feel are relevant.\n",
    "\n",
    "#### Step 2:  Check with your partner (3 minutes)\n",
    "\n",
    "* Work with your partner, and together decide on a new set of five (or fewer) keywords.\n",
    "\n",
    "You are free to mix and match between either of your keyword sets, or you might want to create new ones.  You must decide and agree on your new keywords.\n",
    "\n",
    "#### Step 3:  Check with the room (5 minutes)\n",
    "\n",
    "* Each pair (or other small group) places their keywords into the etherpad and the room reviews.\n",
    "\n",
    "The entire room now decides on a single set of 5 keywords.  Again, this may be some form of union or new creation."
   ]
  },
  {
   "cell_type": "code",
   "execution_count": null,
   "metadata": {
    "collapsed": true
   },
   "outputs": [],
   "source": []
  }
 ],
 "metadata": {
  "anaconda-cloud": {},
  "kernelspec": {
   "display_name": "Python [conda root]",
   "language": "python",
   "name": "conda-root-py"
  },
  "language_info": {
   "codemirror_mode": {
    "name": "ipython",
    "version": 3
   },
   "file_extension": ".py",
   "mimetype": "text/x-python",
   "name": "python",
   "nbconvert_exporter": "python",
   "pygments_lexer": "ipython3",
   "version": "3.5.2"
  }
 },
 "nbformat": 4,
 "nbformat_minor": 1
}
