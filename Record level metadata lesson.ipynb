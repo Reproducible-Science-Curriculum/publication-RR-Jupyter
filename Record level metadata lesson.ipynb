{
 "cells": [
  {
   "cell_type": "markdown",
   "metadata": {},
   "source": [
    "# Creating Record Level Metadata\n",
    "\n",
    "Learning objectives:\n",
    "\n",
    "Learning Objectives\n",
    "* Evaluate and rank the quality of existing metadata records.\n",
    "* Describe the types of and importance of record level metadata. \n",
    "* Compose an appropriate set of descriptive keywords for a given text.\n"
   ]
  },
  {
   "cell_type": "markdown",
   "metadata": {},
   "source": [
    "## Exercise 1: Ranking records\n",
    "\n",
    "### Exercise - rank these Zenodo entries in terms of information quality (7 minutes)\n",
    "\n",
    "Ranking worse to better zenodo records:\n",
    "\n",
    "* https://zenodo.org/record/220887#.WHVUprYrJE4 - Simulated breed for GENMON\n",
    "* https://zenodo.org/record/193080#.WHVWI7YrJE4 - Raw data for a manuscript. Gives manuscript title.\n",
    "* https://zenodo.org/record/215975#.WHVVCLYrIxF \n",
    "* https://zenodo.org/record/193025#.WHVVrrYrIxE \n",
    "* https://zenodo.org/record/158943#.WHVXZbYrIxG - data, jupyter notebook, video, and readme file for a paper (http://iopscience.iop.org/article/10.1088/0143-0807/38/1/015005/meta#footnotes)\n",
    "\n",
    "Look through these three (TODO, [issue 1](https://github.com/Reproducible-Science-Curriculum/publication-RR-Jupyter/issues/1)) and rank them from 1 (most helpful/informative) to 3 (least helpful/informative).  (5-7 minutes).\n",
    "\n",
    "Place your green sticky up when you are done."
   ]
  },
  {
   "cell_type": "markdown",
   "metadata": {
    "collapsed": true
   },
   "source": [
    "### Group discussion (5 minutes)\n",
    "\n",
    "Tally for who ranked each record for being the most informative:\n",
    "\n",
    "* [record number...]\n",
    "* [record number...]\n",
    "* [record number...]\n",
    "\n",
    "Tally for who ranked each record for being the least informative:\n",
    "\n",
    "* [record number...]\n",
    "* [record number...]\n",
    "* [record number...]\n",
    "\n",
    "Discussion questions:\n",
    "\n",
    "* What were the criteria that you used to rank? \n",
    "* What was missing? \n",
    "* What was the most helpful? \n",
    "* What was the most critical piece of information? \n"
   ]
  },
  {
   "cell_type": "markdown",
   "metadata": {
    "collapsed": true
   },
   "source": [
    "## The metadata in your life\n",
    "\n",
    "You're used to metadata within your research. You've got metadata about specific data points, observations, samples, etc.  But there are many more parts of metadata.  \n",
    "\n",
    "The information that you were looking at in the Zenodo records is metadata.  Metadata about the dataset (record) on that page.  Let's take a look at the pieces of these pages.\n",
    "\n",
    "Point out where these pieces are:\n",
    "\n",
    "* Title\n",
    "* Authors\n",
    "* Description\n",
    "* Keywords\n",
    "\n",
    "This information is important because:\n",
    "\n",
    "* people need to find your stuff\n",
    "* people need to know what your stuff is\n",
    "\n",
    "Let's think about the workflow of discovery, the user...\n",
    "\n",
    "1. Searches for something\n",
    "2. Reviews the results, based on the title and other information coming up in the search results pages\n",
    "3. Might add some filters to reduce and refine the results\n",
    "4. Selects a record to review and goes to that record's page\n",
    "5. Reviews the new information on this page, including the fuller description, keywords, and other readme/documentation files.\n",
    "6. Downloads and digs in to the data files\n",
    "\n",
    "This person would continue to move through these steps so long as the information continues to look sufficiently interesting."
   ]
  },
  {
   "cell_type": "code",
   "execution_count": 1,
   "metadata": {
    "collapsed": false
   },
   "outputs": [
    {
     "data": {
      "text/html": [
       "<iframe src=https://zenodo.org/record/158943#.WHVXZbYrIxG width=700 height=350></iframe>"
      ],
      "text/plain": [
       "<IPython.core.display.HTML object>"
      ]
     },
     "execution_count": 1,
     "metadata": {},
     "output_type": "execute_result"
    }
   ],
   "source": [
    "import IPython\n",
    "\n",
    "url = \"https://zenodo.org/record/158943#.WHVXZbYrIxG\"\n",
    "iframe = '<iframe src=' + url + ' width=700 height=350></iframe>'\n",
    "\n",
    "IPython.display.HTML(iframe)"
   ]
  },
  {
   "cell_type": "markdown",
   "metadata": {
    "collapsed": true
   },
   "source": [
    "## Keywords, best friend/worst enemy\n",
    "\n",
    "There are many places where you might need to add in tags and keywords about items.  You do this for organizing your pictures, maybe your evernote notes,"
   ]
  },
  {
   "cell_type": "code",
   "execution_count": null,
   "metadata": {
    "collapsed": true
   },
   "outputs": [],
   "source": []
  },
  {
   "cell_type": "code",
   "execution_count": null,
   "metadata": {
    "collapsed": true
   },
   "outputs": [],
   "source": []
  }
 ],
 "metadata": {
  "anaconda-cloud": {},
  "kernelspec": {
   "display_name": "Python [conda root]",
   "language": "python",
   "name": "conda-root-py"
  },
  "language_info": {
   "codemirror_mode": {
    "name": "ipython",
    "version": 3
   },
   "file_extension": ".py",
   "mimetype": "text/x-python",
   "name": "python",
   "nbconvert_exporter": "python",
   "pygments_lexer": "ipython3",
   "version": "3.5.2"
  }
 },
 "nbformat": 4,
 "nbformat_minor": 1
}
