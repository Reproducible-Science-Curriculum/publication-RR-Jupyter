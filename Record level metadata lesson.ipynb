{
 "cells": [
  {
   "cell_type": "markdown",
   "metadata": {},
   "source": [
    "# Creating Record Level Metadata\n",
    "\n",
    "Learning objectives:\n",
    "\n",
    "Learning Objectives\n",
    "* Evaluate and rank the quality of existing metadata records.\n",
    "* Describe the types of and importance of record level metadata. \n",
    "* Compose an appropriate set of descriptive keywords for a given text.\n"
   ]
  },
  {
   "cell_type": "markdown",
   "metadata": {},
   "source": [
    "## Exercise 1: Ranking records\n",
    "\n",
    "Exercise - rank these Zenodo entries in terms of information quality (7 minutes)\n",
    "Ranking worse to better zenodo records:\n",
    "\n",
    "* https://zenodo.org/record/220887#.WHVUprYrJE4 - Simulated breed for GENMON\n",
    "* https://zenodo.org/record/193080#.WHVWI7YrJE4 - Raw data for a manuscript. Gives manuscript title.\n",
    "* https://zenodo.org/record/215975#.WHVVCLYrIxF \n",
    "* https://zenodo.org/record/193025#.WHVVrrYrIxE \n",
    "* https://zenodo.org/record/158943#.WHVXZbYrIxG - data, jupyter notebook, video, and readme file for a paper (http://iopscience.iop.org/article/10.1088/0143-0807/38/1/015005/meta#footnotes)"
   ]
  },
  {
   "cell_type": "code",
   "execution_count": null,
   "metadata": {
    "collapsed": true
   },
   "outputs": [],
   "source": []
  },
  {
   "cell_type": "code",
   "execution_count": null,
   "metadata": {
    "collapsed": true
   },
   "outputs": [],
   "source": []
  },
  {
   "cell_type": "code",
   "execution_count": null,
   "metadata": {
    "collapsed": true
   },
   "outputs": [],
   "source": []
  },
  {
   "cell_type": "code",
   "execution_count": null,
   "metadata": {
    "collapsed": true
   },
   "outputs": [],
   "source": []
  },
  {
   "cell_type": "code",
   "execution_count": null,
   "metadata": {
    "collapsed": true
   },
   "outputs": [],
   "source": []
  },
  {
   "cell_type": "code",
   "execution_count": null,
   "metadata": {
    "collapsed": true
   },
   "outputs": [],
   "source": []
  }
 ],
 "metadata": {
  "kernelspec": {
   "display_name": "Python [conda root]",
   "language": "python",
   "name": "conda-root-py"
  },
  "language_info": {
   "codemirror_mode": {
    "name": "ipython",
    "version": 3
   },
   "file_extension": ".py",
   "mimetype": "text/x-python",
   "name": "python",
   "nbconvert_exporter": "python",
   "pygments_lexer": "ipython3",
   "version": "3.5.2"
  }
 },
 "nbformat": 4,
 "nbformat_minor": 1
}
