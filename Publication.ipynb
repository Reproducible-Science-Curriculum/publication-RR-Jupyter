{
 "cells": [
  {
   "cell_type": "markdown",
   "metadata": {},
   "source": [
    "# Publication Concerns\n",
    "\n",
    "* Define and describe the importance of unique identifiers for data, publication and software (e.g. DOI).\n",
    "* Identify appropriate resources and contacts at their institution for acquiring a unique identifier.\n",
    "* Identify research artifacts on your own CV that would benefit from a DOI.\n",
    "* Locate the DOI for an existing publication.\n",
    "* Compare and contrast different levels of open access. (needs an issue)\n",
    "* Select appropriate journal or preprint service for their publication, data or software.\n",
    "* Select an appropriate license for their publication, data, and software.\n",
    "* Create an ORCiD.\n",
    "\n",
    "This lesson serves to introduce leaners to DOIs, other identifier systems, breifly introduce and discuss the complex needs of licensing, and ends with learners creating ORCiD profiles and exploring Impact Story."
   ]
  },
  {
   "cell_type": "markdown",
   "metadata": {},
   "source": [
    "## DOIs"
   ]
  },
  {
   "cell_type": "markdown",
   "metadata": {},
   "source": [
    "### What is a DOI and the landscape of identifiers"
   ]
  },
  {
   "cell_type": "markdown",
   "metadata": {},
   "source": [
    "### Exercise 1: Find the DOI for a published article, dataset, and code"
   ]
  },
  {
   "cell_type": "markdown",
   "metadata": {},
   "source": [
    "### What does having a DOI mean?"
   ]
  },
  {
   "cell_type": "markdown",
   "metadata": {},
   "source": [
    "### Exercise 2:  Identify 2 of your works that might benefit from DOIs"
   ]
  },
  {
   "cell_type": "markdown",
   "metadata": {},
   "source": []
  },
  {
   "cell_type": "markdown",
   "metadata": {},
   "source": [
    "## Open Access levels\n",
    "\n",
    "TBD..."
   ]
  },
  {
   "cell_type": "markdown",
   "metadata": {},
   "source": [
    "### Exercise 2: Explore open access policies\n",
    "\n",
    "1. Find one of the high impact journals in your field and look up their open access policies. Paste into the Etherpad the name of the journal and (. . . ). Discuss with a partner from a different discipline. What did you find?\n",
    "2. For that journal, open a recent article and locate the DOI. Does your journal have a DOI?\n"
   ]
  },
  {
   "cell_type": "markdown",
   "metadata": {},
   "source": []
  },
  {
   "cell_type": "markdown",
   "metadata": {},
   "source": [
    "## Licensing concerns\n",
    "\n",
    "This isn't a workshop to teach you everything you need to know about licenses, but it is important to understand that published works, code, and data all have different needs related to licensing."
   ]
  },
  {
   "cell_type": "markdown",
   "metadata": {},
   "source": [
    "stuff"
   ]
  },
  {
   "cell_type": "markdown",
   "metadata": {},
   "source": []
  },
  {
   "cell_type": "markdown",
   "metadata": {},
   "source": [
    "### Exercise n:  Break out into three groups\n",
    "\n",
    "Group 1: investigate the [creative commons wizard](https://creativecommons.org/choose/)\n",
    "Group 2: investigate the [ODbL guide](http://opendatacommons.org/guide/)\n",
    "Group 3: work through the [OSS license selector](http://oss-watch.ac.uk/apps/licdiff/)\n",
    "\n",
    "Take 5 minutes to review this information and place your findings into the etherpad.  When dont place your green stickies up.\n",
    "\n",
    "The instructor will review the report outs and lead discussion.\n",
    "\n",
    "1. What were your general impressions?\n",
    "2. What was the biggest concern with your license domain?\n",
    "3. What did you find helpful?\n",
    "4. What did you find confusing?"
   ]
  },
  {
   "cell_type": "markdown",
   "metadata": {},
   "source": []
  },
  {
   "cell_type": "markdown",
   "metadata": {},
   "source": []
  }
 ],
 "metadata": {
  "kernelspec": {
   "display_name": "Python [conda root]",
   "language": "python",
   "name": "conda-root-py"
  },
  "language_info": {
   "codemirror_mode": {
    "name": "ipython",
    "version": 3
   },
   "file_extension": ".py",
   "mimetype": "text/x-python",
   "name": "python",
   "nbconvert_exporter": "python",
   "pygments_lexer": "ipython3",
   "version": "3.5.2"
  }
 },
 "nbformat": 4,
 "nbformat_minor": 2
}
