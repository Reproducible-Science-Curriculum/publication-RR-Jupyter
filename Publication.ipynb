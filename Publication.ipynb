{
 "cells": [
  {
   "cell_type": "markdown",
   "metadata": {},
   "source": [
    "# Publication Concerns\n",
    "\n",
    "* Define and describe the importance of unique identifiers for data, publication and software (e.g. DOI).\n",
    "* Identify appropriate resources and contacts at their institution for acquiring a unique identifier.\n",
    "* Identify research artifacts on your own CV that would benefit from a DOI.\n",
    "* Locate the DOI for an existing publication.\n",
    "* Compare and contrast different levels of open access. (needs an issue)\n",
    "* Select appropriate journal or preprint service for their publication, data or software.\n",
    "* Select an appropriate license for their publication, data, and software.\n",
    "* Create an ORCiD.\n",
    "\n",
    "This lesson serves to introduce leaners to DOIs, other identifier systems, breifly introduce and discuss the complex needs of licensing, and ends with learners creating ORCiD profiles and exploring Impact Story."
   ]
  },
  {
   "cell_type": "markdown",
   "metadata": {},
   "source": [
    "## Stable identifiers"
   ]
  },
  {
   "cell_type": "markdown",
   "metadata": {},
   "source": [
    "### What is a DOI and the landscape of identifiers\n",
    "\n",
    "The story:  You’re a graduate student reading a paper and the authors have made the code for their analysis available on their labratory's website. You'd like to reuse and reference some of the code for your current project. The code for the analysis is linked in the footnotes, but the researcher has since left that university.  Their new lab's website no longer has a link to that code and no one is responding to your emails.  How do you access the code? You don't!  :-(\n",
    "\n",
    "There were a few ways that you could have been saved.\n",
    "\n",
    "1.  The researcher uploads their code to a repository, such as their institutional repository, Zenodo, FigShare, or even GitHub\\*  \n",
    "2.  The researcher could have linked thier GitHub repository to a Zenodo or FigShare archive, and provided the corresponding DOI within the paper.  Even if they later take down their GitHub repository, the DOI should still resolve to that archival entry within the repository.  Additionally, the repository could update the redirect from the DOI to wherever the archived files moved to.\n",
    "\n",
    "In either condition, the DOI will remain stable within the manuscript and the paper would not need to be updated even if the content the DOI redirects to moves.  Should the underlying content move, the DOI resolver can be updated with that new location.\n",
    "\n",
    "\\* GitHub repositories can still be moved and deleted, but in some contexts still more stable than just a personal website.\n",
    "\n",
    "DOIs (digital object identifiers) are just one type of unique identifier, you may see other kinds across the publication landscape.  Additionally, there are two types of DOIs:  CrossRef and DataCite.  Each of these DOIs should resolve under the normal process, the difference is mainly just in who is issuing them out.  CrossRef DOIs are generally the kind that is created for papers and publications from journals while DataCite DOIs are created for repository resources, such as data and code.  This should not directly impact your selection of repositories.  Other common unique identifiers are [Handles](https://en.wikipedia.org/wiki/Handle_System), which you will see commonly throughout institutional repositories in academic institutions."
   ]
  },
  {
   "cell_type": "markdown",
   "metadata": {},
   "source": [
    "### Exercise 1: Find the DOI for a published article, dataset, and code\n",
    "\n",
    "Pick out a paper, either one that you know very well, one of your own, or just travel to a journal website of your choice and pick out a recent paper they are highlighting.  Identify the DOI for that paper."
   ]
  },
  {
   "cell_type": "markdown",
   "metadata": {},
   "source": [
    "### What does having a DOI mean?\n",
    "\n",
    "Most researchers are used to seeing DOIs in the context of papers and publications within journals.  However they are used, DOI and other similar identifiers are meant solely to be unique and stable identifiers for resources.  This means they can be assigned to smaller portions of papers, such as figures, or even for individual proteins or crystal structures within repositories.\n",
    "\n",
    "The implication of having a DOI is solely of stability and not necessarily of quality.  That said, individual repositories may have specific requirements about when and how they issue DOIs for resources.  The DOI service is just a system that they utilize to create identifiers."
   ]
  },
  {
   "cell_type": "markdown",
   "metadata": {},
   "source": [
    "### Exercise 2:  Identify 2 of your works that might benefit from DOIs"
   ]
  },
  {
   "cell_type": "markdown",
   "metadata": {},
   "source": []
  },
  {
   "cell_type": "markdown",
   "metadata": {},
   "source": [
    "## Open Access levels\n",
    "\n",
    "TBD..."
   ]
  },
  {
   "cell_type": "markdown",
   "metadata": {},
   "source": [
    "### Exercise 2: Explore open access policies\n",
    "\n",
    "1. Find one of the high impact journals in your field and look up their open access policies. Paste into the Etherpad the name of the journal and (. . . ). Discuss with a partner from a different discipline. What did you find?\n",
    "2. For that journal, open a recent article and locate the DOI. Does your journal have a DOI?\n"
   ]
  },
  {
   "cell_type": "markdown",
   "metadata": {},
   "source": []
  },
  {
   "cell_type": "markdown",
   "metadata": {},
   "source": [
    "## Licensing concerns\n",
    "\n",
    "This isn't a workshop to teach you everything you need to know about licenses, but it is important to understand that published works, code, and data all have different needs related to licensing.  Selecting an appropriate license is a complex task that you'll likely want or need to connect with an expert to make an informed selection, particularly in complex situaions when you are navigating a collection of copyright agreements and IP rights.\n",
    "\n",
    "Intellectual property and copyright concerns also differ greatly across countries and insitutions, so writing an explicit guide to cover all these situations is nearly impossible.  However, this section of the module will introduce you to some of the topics around licensing publications, code, and data.\n",
    "\n",
    "The selection of a license should involve:\n",
    "\n",
    "1. Looking toward your community to understand canonical standards for licensing.\n",
    "2. Selecting a license you understand (either beforehand or something you research)."
   ]
  },
  {
   "cell_type": "markdown",
   "metadata": {},
   "source": [
    "### Licenses for publications\n",
    "\n",
    "Very commonly, people will select licenses out of the Creative Commons family.  While these licenses are regularly applied to data and code, there are more specific liceness that may suit your needs better.\n",
    "\n",
    "Creative Commons licenses are well documented in human-oriented text: https://creativecommons.org/choose/"
   ]
  },
  {
   "cell_type": "markdown",
   "metadata": {},
   "source": [
    "#### Licenses for data\n",
    "\n",
    "Conversations about licenses for data, within the context of making the data publicly available, should actually start with understanding the origins of the data and first evaluating to see if the dataset may be made publicly available.  You need to determine if the data you are releasing is subject to copyright, contractual, or legal sensitivities. You acquired your data somehow, and that method or the content may have restrictions in place on the redistribution of it. Just because you can access the data source without paying money or logging into a website doesn’t mean that it is public data and you are freely available to harvest and distribute it.\n",
    "\n",
    "Some starter questions to ask include:\n",
    "\n",
    "1. Did you have permission to gather the data and/or are you abiding by any applicable Terms of Service by gathering, using, or publishing that data?\n",
    "2. Are you including data values where entities, such as publishers or users, hold copyright?\n",
    "3. Was your access to the original data you’ve processed under a contract that restricts or has stipulations about how derivatives are released?\n",
    "4. Does your home institution have policies on how data products and other intellectual property content is released and licensed?\n",
    "5. These scenarios will impact your ability make the data public and which kind of license you can attach to it, which is why I always suggest working through this process in the hypothetical when you begin a project. Data copyright and IP control are thorny issues that, like other copyright domains, vary by country, institution, and year of creation.\n",
    "\n",
    "(Some content borrowed from a Data Carpentry [blog post](http://www.datacarpentry.org/blog/data-licensing/))"
   ]
  },
  {
   "cell_type": "markdown",
   "metadata": {},
   "source": [
    "### Licenses for software"
   ]
  },
  {
   "cell_type": "code",
   "execution_count": null,
   "metadata": {
    "collapsed": true
   },
   "outputs": [],
   "source": []
  },
  {
   "cell_type": "code",
   "execution_count": null,
   "metadata": {
    "collapsed": true
   },
   "outputs": [],
   "source": []
  },
  {
   "cell_type": "markdown",
   "metadata": {},
   "source": [
    "### Exercise n:  Break out into three groups\n",
    "\n",
    "Group 1: investigate the [creative commons wizard](https://creativecommons.org/choose/)\n",
    "Group 2: investigate the [ODbL guide](http://opendatacommons.org/guide/)\n",
    "Group 3: work through the [OSS license selector](http://oss-watch.ac.uk/apps/licdiff/)\n",
    "\n",
    "Take 5 minutes to review this information and place your findings into the etherpad.  When dont place your green stickies up.\n",
    "\n",
    "The instructor will review the report outs and lead discussion.\n",
    "\n",
    "1. What were your general impressions?\n",
    "2. What was the biggest concern with your license domain?\n",
    "3. What did you find helpful?\n",
    "4. What did you find confusing?"
   ]
  },
  {
   "cell_type": "markdown",
   "metadata": {},
   "source": [
    "## ORCiDs\n",
    "\n",
    "Let's make ORCiDs!\n",
    "\n",
    "Think you have one?  Try looking yourself up.  Otherwise, create an account on ORCiD.\n",
    "\n",
    "[ORCiD.org](https://orcid.org/)\n",
    "\n",
    "Take some time to explore the options within your profile.  Under works, click Add Works.  You can search several databases from within or you can add works manually.\n",
    "\n",
    "Issue...add new info.\n",
    "\n",
    "Once everyone has their ORCiD created, all learners should navigate to [Impact Story](https://impactstory.org) and link their accounts.\n",
    "\n",
    "Learners who already have accounts can help those next to them get things set up.  Learners who object to creating accounts may choose to akip this activity."
   ]
  },
  {
   "cell_type": "markdown",
   "metadata": {},
   "source": []
  }
 ],
 "metadata": {
  "kernelspec": {
   "display_name": "Python [conda root]",
   "language": "python",
   "name": "conda-root-py"
  },
  "language_info": {
   "codemirror_mode": {
    "name": "ipython",
    "version": 3
   },
   "file_extension": ".py",
   "mimetype": "text/x-python",
   "name": "python",
   "nbconvert_exporter": "python",
   "pygments_lexer": "ipython3",
   "version": "3.5.2"
  }
 },
 "nbformat": 4,
 "nbformat_minor": 2
}
